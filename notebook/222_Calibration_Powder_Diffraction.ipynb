{
 "cells": [
  {
   "cell_type": "markdown",
   "metadata": {},
   "source": [
    "Calibration for Powder Diffraction\n",
    "==================\n",
    "There are two general interfaces used for calibrating instruments for powder diffraction that are covered in this tutorial\n",
    "* [Calibration Information](#Calibration-Information)\n",
    "* [CalibrateRectangularDetectors](#CalibrateRectangularDetectors)\n",
    "* [PDCalibration](#PDCalibration)\n",
    "\n",
    "The tutorial also covers information about masking calibration files"
   ]
  },
  {
   "cell_type": "code",
   "execution_count": null,
   "metadata": {
    "collapsed": true
   },
   "outputs": [],
   "source": [
    "# setup plotting\n",
    "import matplotlib\n",
    "%matplotlib notebook\n",
    "import matplotlib.pyplot as plt\n",
    "plt.xkcd() # comment this out for serious science\n",
    "# useful modules\n",
    "import os\n",
    "# ...and, of course, mantid\n",
    "from mantid.simpleapi import *"
   ]
  },
  {
   "cell_type": "markdown",
   "metadata": {},
   "source": [
    "Calibration Information\n",
    "--------------------------\n",
    "For all of the calibrations there needs to be a \"known\" lattice constant to calibrate against when determining the tof to dspacing conversion factors. Traditionally at SNS diamond is used for this. Mantid has a facility for [crystal structure and reflections](http://docs.mantidproject.org/nightly/concepts/CrystalStructureAndReflections.html) built in."
   ]
  },
  {
   "cell_type": "code",
   "execution_count": null,
   "metadata": {
    "collapsed": true
   },
   "outputs": [],
   "source": [
    "from mantid.geometry import CrystalStructure, ReflectionGenerator\n",
    "latticeConstants = ['3.56792' for i in xrange(3)] # \n",
    "diamond = CrystalStructure(' '.join(latticeConstants),\n",
    "                           \"F d -3 m\", \"C 0 0 0 1.0 0.05\")\n",
    "generator = ReflectionGenerator(diamond)\n",
    "dvalues = generator.getDValues(generator.getUniqueHKLs(.4,3.))"
   ]
  },
  {
   "cell_type": "markdown",
   "metadata": {},
   "source": [
    "[CalibrateRectangularDetectors](http://docs.mantidproject.org/nightly/algorithms/CalibrateRectangularDetectors-v1.html)\n",
    "-------------------------------\n",
    "\n",
    "`CalibrateRectangularDetectors` is a algorithm intended on simplifying a standard workflow for generating calibration files. Since it is relatively mature, it contains properties for some more common ways to calibrate. This tutorial will focus on the `CrossCorrelation=False` option."
   ]
  },
  {
   "cell_type": "code",
   "execution_count": null,
   "metadata": {
    "collapsed": true
   },
   "outputs": [],
   "source": []
  },
  {
   "cell_type": "markdown",
   "metadata": {},
   "source": [
    "[PDCalibration](http://docs.mantidproject.org/nightly/algorithms/PDCalibration-v1.html)\n",
    "-------------------------------------"
   ]
  },
  {
   "cell_type": "code",
   "execution_count": null,
   "metadata": {
    "collapsed": true
   },
   "outputs": [],
   "source": [
    "wkspName='NOM_79584'\n",
    "\n",
    "LoadEventAndCompress(Filename=wkspName, OutputWorkspace=wkspName,\n",
    "                     MaxChunkSize=16, FilterBadPulses=25)\n",
    "CropWorkspace(InputWorkspace=wkspName, OutputWorkspace=wkspName, XMin=300, XMax=16666.7)\n",
    "\n",
    "# generates a workspace of delta-d/d which could be used to estimate uncertainties\n",
    "#EstimateResolutionDiffraction(InputWorkspace=wkspName, OutputWorkspace='resolution', DeltaTOF=5)\n",
    "\n",
    "# start from a previous calibration\n",
    "oldCal='/SNS/NOM/shared/CALIBRATION/2016_2_1B_CAL/NOM_d79330_2016_09_07.h5'\n",
    "\n",
    "# NOMAD uses tabulated reflections for diamond\n",
    "dvalues = (0.3117,0.3257,0.3499,0.4205,0.4645,0.4768,0.4996,0.5150,0.5441,0.5642,0.5947,\n",
    "           0.6307,.6866,.7283,.8185,.8920,1.0758,1.2615,2.0599)\n",
    "\n",
    "PDCalibration(SignalWorkspace=wkspName,\n",
    "              TofBinning=[300,-.001,16666.7],\n",
    "              PreviousCalibration=oldCal,\n",
    "              PeakPositions=dvalues,\n",
    "              StartFromObservedPeakCentre=True,\n",
    "              OutputCalibrationTable='new',\n",
    "              CalibrationParameters='DIFC')\n",
    "\n",
    "dbinning=(.01,-.001,3.)\n",
    "AlignDetectors(InputWorkspace=wkspName, OutputWorkspace=wkspName, CalibrationWorkspace='new')\n",
    "CropWorkspace(InputWorkspace=wkspName, OutputWorkspace=wkspName,\n",
    "              XMin=dbinning[0], XMax=dbinning[2])\n",
    "Rebin(InputWorkspace=wkspName, OutputWorkspace=wkspName, Params=dbinning)"
   ]
  },
  {
   "cell_type": "markdown",
   "metadata": {},
   "source": [
    "[DetectorDiagnostic](http://docs.mantidproject.org/nightly/algorithms/DetectorDiagnostic-v1.html) uses statistical criteria for determining what pixels should be used to produce final data"
   ]
  },
  {
   "cell_type": "code",
   "execution_count": null,
   "metadata": {
    "collapsed": true
   },
   "outputs": [],
   "source": [
    "LoadEventAndCompress(Filename='NOM_78771', OutputWorkspace='NOM_78771',\n",
    "                    MaxChunkSize=8, FilterBadPulses=25)\n",
    "DetectorDiagnostic(InputWorkspace='NOM_78771', OutputWorkspace='NOM_mask_detdiag',\n",
    "                   RangeLower=300, RangeUpper=16666.7, # TOF range to use\n",
    "                   LowThreshold=10, # minimum number of counts for a detector\n",
    "                   LevelsUp=1) # median calculated from the tube"
   ]
  },
  {
   "cell_type": "markdown",
   "metadata": {},
   "source": [
    "The result of `DetectorDiagnostic` can be combined with the result of the mask generated by `PDCalibration` using [BinaryOperateMasks](http://docs.mantidproject.org/nightly/algorithms/BinaryOperateMasks-v1.html)"
   ]
  },
  {
   "cell_type": "code",
   "execution_count": null,
   "metadata": {
    "collapsed": true
   },
   "outputs": [],
   "source": [
    "BinaryOperateMasks(InputWorkspace1='NOM_mask', InputWorkspace2='NOM_mask_detdiag',\n",
    "                   OperationType='OR', OutputWorkspace='NOM_mask_final')"
   ]
  },
  {
   "cell_type": "code",
   "execution_count": null,
   "metadata": {
    "collapsed": true
   },
   "outputs": [],
   "source": [
    "SaveDiffCal(CalibrationWorkspace='NOM_cal',\n",
    "             GroupingWorkspace='NOM_group',\n",
    "             MaskWorkspace='NOM_mask_final',\n",
    "            Filename='/tmp/NOM_d79584.h5')"
   ]
  },
  {
   "cell_type": "markdown",
   "metadata": {},
   "source": [
    "[AlignComponents](https://github.com/mantidproject/mantid/blob/master/docs/source/algorithms/AlignComponents-v1.rst)\n",
    "-----------------\n",
    "This algorithm can be used to update the instrument geometry itself by optimizing the position of the physical components to the `DIFC` from calibration."
   ]
  },
  {
   "cell_type": "code",
   "execution_count": null,
   "metadata": {
    "collapsed": true
   },
   "outputs": [],
   "source": []
  }
 ],
 "metadata": {
  "kernelspec": {
   "display_name": "Python 2",
   "language": "python",
   "name": "python2"
  },
  "language_info": {
   "codemirror_mode": {
    "name": "ipython",
    "version": 2
   },
   "file_extension": ".py",
   "mimetype": "text/x-python",
   "name": "python",
   "nbconvert_exporter": "python",
   "pygments_lexer": "ipython2",
   "version": "2.7.11"
  }
 },
 "nbformat": 4,
 "nbformat_minor": 0
}
