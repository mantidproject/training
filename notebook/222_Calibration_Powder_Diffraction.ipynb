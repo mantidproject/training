{
 "cells": [
  {
   "cell_type": "markdown",
   "metadata": {},
   "source": [
    "Calibration for Powder Diffraction\n",
    "==================\n",
    "There are two general interfaces used for calibrating instruments for powder diffraction that are covered in this tutorial\n",
    "* [Calibration Information](#Calibration-Information)\n",
    "* [CalibrateRectangularDetectors](#CalibrateRectangularDetectors)\n",
    "* [PDCalibration](#PDCalibration)\n",
    "\n",
    "The tutorial also covers information about masking calibration files"
   ]
  },
  {
   "cell_type": "code",
   "execution_count": null,
   "metadata": {
    "collapsed": true
   },
   "outputs": [],
   "source": [
    "# setup plotting\n",
    "import matplotlib\n",
    "%matplotlib notebook\n",
    "import matplotlib.pyplot as plt\n",
    "plt.xkcd() # comment this out for serious science\n",
    "# useful modules\n",
    "import os\n",
    "# ...and, of course, mantid\n",
    "from mantid.simpleapi import *"
   ]
  },
  {
   "cell_type": "markdown",
   "metadata": {},
   "source": [
    "Calibration Information\n",
    "--------------------------\n",
    "For all of the calibrations there needs to be a \"known\" lattice constant to calibrate against when determining the tof to dspacing conversion factors. Traditionally at SNS diamond is used for this. Mantid has a facility for [crystal structure and reflections](http://docs.mantidproject.org/nightly/concepts/CrystalStructureAndReflections.html) built in."
   ]
  },
  {
   "cell_type": "code",
   "execution_count": null,
   "metadata": {
    "collapsed": false
   },
   "outputs": [],
   "source": [
    "from mantid.geometry import CrystalStructure, ReflectionGenerator\n",
    "latticeConstants = ['3.56792' for i in xrange(3)] # \n",
    "diamond = CrystalStructure(' '.join(latticeConstants),\n",
    "                           \"F d -3 m\", \"C 0 0 0 1.0 0.05\")\n",
    "generator = ReflectionGenerator(diamond)\n",
    "dvalues = generator.getDValues(generator.getUniqueHKLs(.3,3.))\n",
    "print dvalues"
   ]
  },
  {
   "cell_type": "markdown",
   "metadata": {},
   "source": [
    "This generates way more d-values than what is traditionally used, so instead will use a hard-coded list."
   ]
  },
  {
   "cell_type": "code",
   "execution_count": null,
   "metadata": {
    "collapsed": true
   },
   "outputs": [],
   "source": [
    "dvalues = [2.0600,1.2615,1.0758,0.8920,0.8186,0.7283,0.6867,0.6307,0.5947,0.5642,0.5441,\n",
    "           0.5150,0.4996, 0.4768,0.4645,0.4205,0.3916,0.3499,0.3257,0.3117]"
   ]
  },
  {
   "cell_type": "markdown",
   "metadata": {},
   "source": [
    "[CalibrateRectangularDetectors](http://docs.mantidproject.org/nightly/algorithms/CalibrateRectangularDetectors-v1.html)\n",
    "-------------------------------\n",
    "\n",
    "`CalibrateRectangularDetectors` is a algorithm intended on simplifying a standard workflow for generating calibration files. Since it is relatively mature, it contains properties for some more common ways to calibrate. This tutorial will focus on the `CrossCorrelation=False` option."
   ]
  },
  {
   "cell_type": "code",
   "execution_count": null,
   "metadata": {
    "collapsed": false
   },
   "outputs": [],
   "source": [
    "CalibrateRectangularDetectors(RunNumber=\"PG3_27021\", Binning=\"0.3,-0.0004,3\",\n",
    "                              PeakPositions=dvalues,\n",
    "                              # control the peak fitting\n",
    "                              MaxOffset=0.005,\n",
    "                              CrossCorrelation=False,\n",
    "                              PeakWindowMax=0.1,\n",
    "                              # what function to fit with\n",
    "                              BackgroundType=\"Flat\",\n",
    "                              PeakFunction=\"Gaussian\",\n",
    "                              # default grouping used in reduction\n",
    "                              GroupDetectorsBy=\"All\",\n",
    "                              # how to save the results\n",
    "                              SaveAs=\"calibration\",\n",
    "                              OutputDirectory=\"/tmp\")"
   ]
  },
  {
   "cell_type": "markdown",
   "metadata": {},
   "source": [
    "The calibration file will be named `/tmp/PG3_calibrate_d27021_YYYY_MM_DD.h5` with `YYYY_MM_DD` filled in with today's date."
   ]
  },
  {
   "cell_type": "markdown",
   "metadata": {},
   "source": [
    "[PDCalibration](http://docs.mantidproject.org/nightly/algorithms/PDCalibration-v1.html)\n",
    "-------------------------------------"
   ]
  },
  {
   "cell_type": "code",
   "execution_count": null,
   "metadata": {
    "collapsed": false
   },
   "outputs": [],
   "source": [
    "wkspName='NOM_79584'\n",
    "\n",
    "LoadEventAndCompress(Filename=wkspName, OutputWorkspace=wkspName,\n",
    "                     MaxChunkSize=16, FilterBadPulses=25)\n",
    "CropWorkspace(InputWorkspace=wkspName, OutputWorkspace=wkspName, XMin=300, XMax=16666.7)\n",
    "\n",
    "# generates a workspace of delta-d/d which could be used to estimate uncertainties\n",
    "#EstimateResolutionDiffraction(InputWorkspace=wkspName, OutputWorkspace='resolution', DeltaTOF=5)\n",
    "\n",
    "# start from a previous calibration\n",
    "oldCal='/SNS/NOM/shared/CALIBRATION/2016_2_1B_CAL/NOM_d79330_2016_09_07.h5'\n",
    "\n",
    "# NOMAD uses tabulated reflections for diamond\n",
    "dvalues = (0.3117,0.3257,0.3499,0.4205,0.4645,0.4768,0.4996,0.5150,0.5441,0.5642,0.5947,\n",
    "           0.6307,.6866,.7283,.8185,.8920,1.0758,1.2615,2.0599)\n",
    "\n",
    "PDCalibration(SignalWorkspace=wkspName,\n",
    "              TofBinning=[300,-.001,16666.7],\n",
    "              PreviousCalibration=oldCal,\n",
    "              PeakPositions=dvalues,\n",
    "              StartFromObservedPeakCentre=True,\n",
    "              OutputCalibrationTable='new_cal',\n",
    "              CalibrationParameters='DIFC')\n",
    "\n",
    "dbinning=(.01,-.001,3.)\n",
    "AlignDetectors(InputWorkspace=wkspName, OutputWorkspace=wkspName, CalibrationWorkspace='new_cal')\n",
    "CropWorkspace(InputWorkspace=wkspName, OutputWorkspace=wkspName,\n",
    "              XMin=dbinning[0], XMax=dbinning[2])\n",
    "Rebin(InputWorkspace=wkspName, OutputWorkspace=wkspName, Params=dbinning)"
   ]
  },
  {
   "cell_type": "markdown",
   "metadata": {},
   "source": [
    "[DetectorDiagnostic](http://docs.mantidproject.org/nightly/algorithms/DetectorDiagnostic-v1.html) uses statistical criteria for determining what pixels should be used to produce final data"
   ]
  },
  {
   "cell_type": "code",
   "execution_count": null,
   "metadata": {
    "collapsed": false
   },
   "outputs": [],
   "source": [
    "LoadEventAndCompress(Filename='NOM_78771', OutputWorkspace='NOM_78771',\n",
    "                    MaxChunkSize=8, FilterBadPulses=25)\n",
    "DetectorDiagnostic(InputWorkspace='NOM_78771', OutputWorkspace='NOM_mask_detdiag',\n",
    "                   RangeLower=300, RangeUpper=16666.7, # TOF range to use\n",
    "                   LowThreshold=10, # minimum number of counts for a detector\n",
    "                   LevelsUp=1) # median calculated from the tube"
   ]
  },
  {
   "cell_type": "markdown",
   "metadata": {},
   "source": [
    "The result of `DetectorDiagnostic` can be combined with the result of the mask generated by `PDCalibration` using [BinaryOperateMasks](http://docs.mantidproject.org/nightly/algorithms/BinaryOperateMasks-v1.html)"
   ]
  },
  {
   "cell_type": "code",
   "execution_count": null,
   "metadata": {
    "collapsed": false
   },
   "outputs": [],
   "source": [
    "BinaryOperateMasks(InputWorkspace1='new_cal_mask', InputWorkspace2='NOM_mask_detdiag',\n",
    "                   OperationType='OR', OutputWorkspace='NOM_mask_final')"
   ]
  },
  {
   "cell_type": "markdown",
   "metadata": {},
   "source": [
    "The only information missing for `SaveDiffCal` is which pixels to combine to make an output spectrum. This is done using [CreateGroupingWorkspace](http://docs.mantidproject.org/nightly/algorithms/CreateGroupingWorkspace-v1.html). For NOMAD, the `Column` option will generate 6 spectra. An alternative is to generate a grouping file to load with [LoadDetectorsGroupingFile](http://docs.mantidproject.org/nightly/algorithms/LoadDetectorsGroupingFile-v1.html)."
   ]
  },
  {
   "cell_type": "code",
   "execution_count": null,
   "metadata": {
    "collapsed": false
   },
   "outputs": [],
   "source": [
    "CreateGroupingWorkspace(InstrumentName='NOMAD', GroupDetectorsBy='Group',\n",
    "                       OutputWorkspace='NOM_group')"
   ]
  },
  {
   "cell_type": "code",
   "execution_count": null,
   "metadata": {
    "collapsed": true
   },
   "outputs": [],
   "source": [
    "SaveDiffCal(CalibrationWorkspace='new_cal',\n",
    "             GroupingWorkspace='NOM_group',\n",
    "             MaskWorkspace='NOM_mask_final',\n",
    "            Filename='/tmp/NOM_d79584.h5')"
   ]
  },
  {
   "cell_type": "markdown",
   "metadata": {},
   "source": [
    "[AlignComponents](https://github.com/mantidproject/mantid/blob/master/docs/source/algorithms/AlignComponents-v1.rst)\n",
    "-----------------\n",
    "This algorithm can be used to update the instrument geometry itself by optimizing the position of the physical components to the `DIFC` from calibration. From this point down is going to clear out the memory and start over."
   ]
  },
  {
   "cell_type": "code",
   "execution_count": null,
   "metadata": {
    "collapsed": true
   },
   "outputs": [],
   "source": [
    "for name in mtd.getObjectNames():\n",
    "    DeleteWorkspace(Workspace=name)\n",
    "LoadDiffCal(InstrumentName='NOMAD',\n",
    "            Filename='/tmp/NOM_d79584.h5',\n",
    "            WorkspaceName='NOM',\n",
    "            TofMin=300, TofMax=16667)"
   ]
  },
  {
   "cell_type": "markdown",
   "metadata": {
    "collapsed": true
   },
   "source": [
    "First refine the sample position along the beam."
   ]
  },
  {
   "cell_type": "code",
   "execution_count": null,
   "metadata": {
    "collapsed": true
   },
   "outputs": [],
   "source": [
    "idf_orig = os.path.join(ConfigService.getInstrumentDirectory(), 'NOMAD_Definition.xml')\n",
    "AlignComponents(CalibrationTable='NOM_cal',\n",
    "                MaskWorkspace='NOM_mask',\n",
    "                InstrumentFilename=idf_orig,\n",
    "                FitSamplePosition=True,\n",
    "                Zposition=True)"
   ]
  },
  {
   "cell_type": "markdown",
   "metadata": {},
   "source": [
    "This creates two workspaces `calWS` which is another representation of the calibration information and `alignedWorkspace` which has the updated instrument. Note that original and final positions are logged at the `Notice` level.\n",
    "\n",
    "After the sample position is refined, refine the detector positions. The algorithm requires naming the components of the instrument to refine. As an example we'll refine the position and rotation of some of the detector 8-packs. These are called `bank#` in the idf. Starting from where the previous refinement finished is done by giving it `alignedWorkspace` in the subsequent invocations."
   ]
  },
  {
   "cell_type": "code",
   "execution_count": 5,
   "metadata": {
    "collapsed": false
   },
   "outputs": [
    {
     "name": "stdout",
     "output_type": "stream",
     "text": [
      "bank47,bank48,bank49\n"
     ]
    }
   ],
   "source": [
    "components = ['bank%d' % (i) for i in range(47,50)]\n",
    "components = ','.join(components)\n",
    "print components\n",
    "AlignComponents(CalibrationTable='NOM_cal',\n",
    "                MaskWorkspace='NOM_mask',\n",
    "                Workspace='alignedWorkspace',\n",
    "                ComponentList=components,\n",
    "                Xposition=True, Yposition=True, Zposition=True)"
   ]
  },
  {
   "cell_type": "markdown",
   "metadata": {},
   "source": [
    "This can be done several times in succession, varying parameters with each call to `AlignComponents`. If the instrument view is up you can watch the changes as they happen.\n",
    "\n",
    "Finally, you'll want to save the the information out so you can create a new idf. Unfortunately, there isn't a tool that will update the IDF automatically, but `ExportGeometry` will write out the source, sample, and named components to an xml file. You can copy the contents into correct places in the idf."
   ]
  },
  {
   "cell_type": "code",
   "execution_count": null,
   "metadata": {
    "collapsed": true
   },
   "outputs": [],
   "source": [
    "ExportGeometry(InputWorkspace='alignedWorkspace',\n",
    "               Components=components,\n",
    "               Filename='/tmp/NOMAD_partial_idf.xml')"
   ]
  }
 ],
 "metadata": {
  "kernelspec": {
   "display_name": "Python 2",
   "language": "python",
   "name": "python2"
  },
  "language_info": {
   "codemirror_mode": {
    "name": "ipython",
    "version": 2
   },
   "file_extension": ".py",
   "mimetype": "text/x-python",
   "name": "python",
   "nbconvert_exporter": "python",
   "pygments_lexer": "ipython2",
   "version": "2.7.12"
  }
 },
 "nbformat": 4,
 "nbformat_minor": 0
}
