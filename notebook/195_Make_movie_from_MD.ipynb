{
 "cells": [
  {
   "cell_type": "markdown",
   "metadata": {},
   "source": [
    "**NOTE** Requires to ffmpeg codecs installed and a new matplotlib with viridis colormap"
   ]
  },
  {
   "cell_type": "code",
   "execution_count": 1,
   "metadata": {
    "collapsed": true
   },
   "outputs": [],
   "source": [
    "import numpy as np\n",
    "np.seterr(divide='ignore', invalid='ignore')\n",
    "import matplotlib\n",
    "matplotlib.use('agg')\n",
    "import matplotlib.pyplot as plt\n",
    "from matplotlib.colors import LogNorm\n",
    "import matplotlib.animation as animation\n",
    "import sys\n",
    "sys.path.append('/home/3y9/Mantid/Build/bin')\n",
    "from mantid.simpleapi import CreateMDHistoWorkspace, LoadMD\n",
    "\n",
    "class MakeMovie(object):\n",
    "    def __init__(self,MDWS,axis,filename,**kwargs):\n",
    "        self.signal=MDWS.getSignalArray()*1.\n",
    "        self.dims=[MDWS.getDimension(i) for i in (0,1,2)]\n",
    "        self.perp_axis=self.dims.pop(axis)\n",
    "        self.perp_axis_index=axis\n",
    "        self.fig,self.ax=plt.subplots()\n",
    "        self.slicer=[slice(None),]*3\n",
    "        self.slicer[axis]=0\n",
    "        self.pcm=self.Plot2DMD(self.dims[0],self.dims[1],self.signal[self.slicer],**kwargs)\n",
    "        self.title=self.ax.set_title(\"{0}={1:3.3f}\".format(self.perp_axis.getName(),\n",
    "                                                           0.5*(self.perp_axis.getX(0)+self.perp_axis.getX(1))))\n",
    "        self.ax.set_xlim(self.dims[0].getMinimum(),self.dims[0].getMaximum())\n",
    "        self.ax.set_ylim(self.dims[1].getMinimum(),self.dims[1].getMaximum())\n",
    "        self.fig.colorbar(self.pcm,ax=self.ax)\n",
    "        self.ani = animation.FuncAnimation(self.fig, self.update_fig, frames=self.perp_axis.getNBins(), interval=50, blit=True)\n",
    "        self.ani.save(filename, writer = \"ffmpeg\", extra_args=['-vcodec', 'libx264'])\n",
    "        plt.close(self.fig)\n",
    "\n",
    "    def update_fig(self,index):\n",
    "        #extract the new slice\n",
    "        self.slicer=[slice(0,-1),]*3\n",
    "        self.slicer[self.perp_axis_index]=index\n",
    "        data=np.array(self.signal[self.slicer].ravel())\n",
    "        data=np.ma.masked_where(np.isnan(data),data)\n",
    "        #set data for the colormesh\n",
    "        self.pcm.set_array(data)\n",
    "        #set title\n",
    "        self.title.set_text(\"{0}={1:3.3f}\".format(self.perp_axis.getName(),\n",
    "                                                  0.5*(self.perp_axis.getX(index)+self.perp_axis.getX(index+1))))\n",
    "        return self.pcm,self.title \n",
    "\n",
    "    def dim2array(self,d):\n",
    "        \"\"\"\n",
    "        Create a numpy array containing bin centers along the dimension d\n",
    "        input: d - IMDDimension\n",
    "        return: numpy array, from min+st/2 to max-st/2 with step st  \n",
    "        \"\"\"\n",
    "        dmin=d.getMinimum()\n",
    "        dmax=d.getMaximum()\n",
    "        dstep=d.getX(1)-d.getX(0)\n",
    "        return np.arange(dmin+dstep/2,dmax,dstep)\n",
    "\n",
    "    def Plot2DMD(self,dimx,dimy,intensity,**kwargs):\n",
    "        \"\"\"\n",
    "        Plot a 2D slice \n",
    "        \"\"\"\n",
    "        x=self.dim2array(dimx)\n",
    "        y=self.dim2array(dimy)\n",
    "        intensity=np.ma.masked_where(np.isnan(intensity),intensity)\n",
    "        XX,YY=np.meshgrid(x,y,indexing='ij')\n",
    "        pcm=self.ax.pcolormesh(XX,YY,intensity,**kwargs)\n",
    "        self.ax.set_xlabel(dimx.getName())\n",
    "        self.ax.set_ylabel(dimy.getName())\n",
    "        return pcm"
   ]
  },
  {
   "cell_type": "code",
   "execution_count": 2,
   "metadata": {
    "collapsed": true
   },
   "outputs": [],
   "source": [
    "def ll(x,xim1,Qc):\n",
    "    \"\"\"\n",
    "    Lattice lorentzian = sum of lorentzians equally spaced on integers\n",
    "    \"\"\"\n",
    "    return np.sinh(xim1)/(np.cosh(xim1)-np.cos(2*np.pi*(x+Qc)))\n",
    "\n",
    "def simulate_data():\n",
    "    xx,yy,zz=np.mgrid[-8:8:200j,-8:8:200j,-8:8:200j]\n",
    "\n",
    "    #\"magnetic scattering\"\n",
    "    xiMm1=1.\n",
    "    intensityM=ll(xx,xiMm1,0.5)*ll(yy,xiMm1,0.5)*ll(zz,xiMm1,0.5)\n",
    "    intensityM=(intensityM-intensityM.min())*100.\n",
    "    intensityM*=np.exp(-(xx**2+yy**2+zz**2)/8.)\n",
    "    #\"Bragg scattering\"\n",
    "    xiBm1=5.e-2\n",
    "    intensityB=ll(xx,xiBm1,0.)*ll(yy,xiBm1,0.)*ll(zz,xiBm1,0.)\n",
    "\n",
    "    intensity=intensityB+intensityM\n",
    "    intensity=intensity.flatten()\n",
    "    ws=CreateMDHistoWorkspace(Dimensionality=3,\n",
    "                              Extents='-5,5,-5,5,-5,5',\n",
    "                              SignalInput=intensity,\n",
    "                              ErrorInput=intensity,\n",
    "                              NumberOfBins='200,200,200',\n",
    "                              Names='H,K,L',\n",
    "                              Units='MomentumTransfer,MomentumTransfer,MomentumTransfer')\n",
    "    return ws"
   ]
  },
  {
   "cell_type": "code",
   "execution_count": 3,
   "metadata": {
    "collapsed": false
   },
   "outputs": [],
   "source": [
    "#ws= LoadMD(Filename='/SNS/TOPAZ/IPTS-17133/shared/Sr_100K/Visualization/3D_vol_full/T90K_combined_symm-oP.nxs', LoadHistory=False)\n",
    "ws=simulate_data()\n",
    "mov=MakeMovie(ws,0,\"../img/KLslices.mp4\",norm=LogNorm(vmin=1e-1,vmax=1e2),cmap='viridis')"
   ]
  },
  {
   "cell_type": "code",
   "execution_count": 4,
   "metadata": {
    "collapsed": false
   },
   "outputs": [
    {
     "data": {
      "text/html": [
       "<video width=\"800\" height=\"600\" controls>\n",
       "  <source src=\"../img/KLslices.mp4\" type=\"video/mp4\">\n",
       "</video>"
      ],
      "text/plain": [
       "<IPython.core.display.HTML object>"
      ]
     },
     "metadata": {},
     "output_type": "display_data"
    }
   ],
   "source": [
    "%%HTML\n",
    "<video width=\"800\" height=\"600\" controls>\n",
    "  <source src=\"../img/KLslices.mp4\" type=\"video/mp4\">\n",
    "</video>"
   ]
  },
  {
   "cell_type": "code",
   "execution_count": null,
   "metadata": {
    "collapsed": true
   },
   "outputs": [],
   "source": []
  }
 ],
 "metadata": {
  "kernelspec": {
   "display_name": "Python 2",
   "language": "python",
   "name": "python2"
  },
  "language_info": {
   "codemirror_mode": {
    "name": "ipython",
    "version": 2
   },
   "file_extension": ".py",
   "mimetype": "text/x-python",
   "name": "python",
   "nbconvert_exporter": "python",
   "pygments_lexer": "ipython2",
   "version": "2.7.12+"
  }
 },
 "nbformat": 4,
 "nbformat_minor": 1
}
